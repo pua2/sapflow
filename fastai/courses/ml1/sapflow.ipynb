{
 "cells": [
  {
   "cell_type": "code",
   "execution_count": 1,
   "metadata": {},
   "outputs": [],
   "source": [
    "%load_ext autoreload\n",
    "%autoreload 2\n",
    "\n",
    "%matplotlib inline"
   ]
  },
  {
   "cell_type": "code",
   "execution_count": 2,
   "metadata": {},
   "outputs": [],
   "source": [
    "import pandas as pd\n",
    "import datetime as dt"
   ]
  },
  {
   "cell_type": "code",
   "execution_count": 3,
   "metadata": {},
   "outputs": [],
   "source": [
    "from fastai.imports import *\n",
    "from fastai.structured import *\n",
    "\n",
    "from pandas_summary import DataFrameSummary\n",
    "from sklearn.ensemble import RandomForestRegressor, RandomForestClassifier\n",
    "from IPython.display import display\n",
    "\n",
    "from sklearn import metrics"
   ]
  },
  {
   "cell_type": "code",
   "execution_count": 4,
   "metadata": {},
   "outputs": [],
   "source": [
    "??proc_df"
   ]
  },
  {
   "cell_type": "code",
   "execution_count": 5,
   "metadata": {},
   "outputs": [],
   "source": [
    "path = \"data/sapflow/\""
   ]
  },
  {
   "cell_type": "code",
   "execution_count": 7,
   "metadata": {},
   "outputs": [],
   "source": [
    "weather_csv = pd.read_csv(f'{path}all_weather.txt', \n",
    "                          low_memory=False, parse_dates=[[\"Date\",\"Time\"]], encoding='ISO-8859-1')\n",
    "\n",
    "sapflow_csv = pd.read_csv(f'{path}all_sapflow.txt', \n",
    "                          low_memory=False, parse_dates=[[\"Date\",\"Time\"]], encoding='ISO-8859-1')"
   ]
  },
  {
   "cell_type": "code",
   "execution_count": 8,
   "metadata": {},
   "outputs": [],
   "source": [
    "weather_csv[\"Date_Time\"] = weather_csv[\"Date_Time\"].dt.strftime('%d/%m/%Y %H:%M')\n",
    "sapflow_csv[\"Date_Time\"] = sapflow_csv[\"Date_Time\"].dt.strftime('%d/%m/%Y %H:%M')"
   ]
  },
  {
   "cell_type": "code",
   "execution_count": 9,
   "metadata": {},
   "outputs": [],
   "source": [
    "def display_all(df):\n",
    "    with pd.option_context(\"display.max_rows\", 1000, \"display.max_columns\", 1000): \n",
    "        display(df)"
   ]
  },
  {
   "cell_type": "code",
   "execution_count": null,
   "metadata": {},
   "outputs": [],
   "source": [
    "display_all(weather_csv)"
   ]
  },
  {
   "cell_type": "code",
   "execution_count": 10,
   "metadata": {},
   "outputs": [],
   "source": [
    "weather_csv = weather_csv[[\"Date_Time\", \"Solar Radiation (W/m^2)\", \"Air Temperature (deg.C)\", \"Corrected RH (%)\", \"Wind Speed (m/s)\"]]\n",
    "weather_csv.rename(columns = {\"Date_Time\":\"datetime\", \"Solar Radiation (W/m^2)\":\"solar_rad\",\"Air Temperature (deg.C)\":\"air_temp\",\"Corrected RH (%)\":\"RH\",\"Wind Speed (m/s)\":\"wind_speed\"}, inplace=True)"
   ]
  },
  {
   "cell_type": "code",
   "execution_count": 11,
   "metadata": {},
   "outputs": [],
   "source": [
    "sapflow_csv = sapflow_csv[[\"Date_Time\", \"Uncorrected Out (cm/hr)\", \"Uncorrected In (cm/hr)\"]]\n",
    "sapflow_csv.rename(columns ={\"Date_Time\":\"datetime\", \"Uncorrected Out (cm/hr)\":\"outer_sapflow\", \"Uncorrected In (cm/hr)\":\"inner_sapflow\"}, inplace=True)"
   ]
  },
  {
   "cell_type": "code",
   "execution_count": 12,
   "metadata": {},
   "outputs": [],
   "source": [
    "merged=pd.merge(weather_csv, sapflow_csv, on='datetime', how='inner')\n",
    "\n",
    "merged=merged.drop_duplicates()"
   ]
  },
  {
   "cell_type": "code",
   "execution_count": null,
   "metadata": {},
   "outputs": [],
   "source": [
    "display_all(merged)"
   ]
  },
  {
   "cell_type": "code",
   "execution_count": 13,
   "metadata": {},
   "outputs": [],
   "source": [
    "def label_time (row):\n",
    "    hour = dt.datetime.strptime(row['datetime'],'%d/%m/%Y %H:%M').hour\n",
    "    if hour >= 6 and hour < 12:\n",
    "        return 'morning'\n",
    "    if hour >= 12 and hour < 17:\n",
    "        return 'afternoon'\n",
    "    if hour >= 17 and hour < 20:\n",
    "        return 'evening'\n",
    "    if hour >= 20 and hour <= 24:\n",
    "        return 'night'\n",
    "    if hour >= 0 and hour < 6:\n",
    "        return 'night'"
   ]
  },
  {
   "cell_type": "code",
   "execution_count": null,
   "metadata": {},
   "outputs": [],
   "source": [
    "#merged.apply (label_time, axis=1)"
   ]
  },
  {
   "cell_type": "code",
   "execution_count": 14,
   "metadata": {},
   "outputs": [],
   "source": [
    "merged['time_of_day'] = merged.apply (label_time, axis=1)"
   ]
  },
  {
   "cell_type": "code",
   "execution_count": null,
   "metadata": {},
   "outputs": [],
   "source": [
    "display_all(merged)"
   ]
  },
  {
   "cell_type": "code",
   "execution_count": 15,
   "metadata": {},
   "outputs": [],
   "source": [
    "df_outer = merged.drop(\"inner_sapflow\", axis=1)\n",
    "df_inner = merged.drop(\"outer_sapflow\", axis=1)"
   ]
  },
  {
   "cell_type": "code",
   "execution_count": 16,
   "metadata": {},
   "outputs": [],
   "source": [
    "df_outer = df_outer[pd.to_numeric(df_outer['outer_sapflow'], errors='coerce').notnull()]\n",
    "df_inner = df_inner[pd.to_numeric(df_inner['inner_sapflow'], errors='coerce').notnull()]"
   ]
  },
  {
   "cell_type": "code",
   "execution_count": 17,
   "metadata": {},
   "outputs": [],
   "source": [
    "df_outer['outer_sapflow'] = pd.to_numeric(df_outer['outer_sapflow'])\n",
    "df_inner['inner_sapflow'] = pd.to_numeric(df_inner['inner_sapflow'])"
   ]
  },
  {
   "cell_type": "code",
   "execution_count": 18,
   "metadata": {},
   "outputs": [],
   "source": [
    "outer_min = df_outer['outer_sapflow'].min()\n",
    "inner_min = df_inner['inner_sapflow'].min()"
   ]
  },
  {
   "cell_type": "code",
   "execution_count": 19,
   "metadata": {},
   "outputs": [],
   "source": [
    "df_outer['new_sapflow'] = df_outer.apply(lambda row: row['outer_sapflow'] + abs(outer_min), axis=1)\n",
    "df_inner['new_sapflow'] = df_inner.apply(lambda row: row['inner_sapflow'] + abs(inner_min), axis=1)"
   ]
  },
  {
   "cell_type": "markdown",
   "metadata": {},
   "source": [
    "Use to save csv files"
   ]
  },
  {
   "cell_type": "code",
   "execution_count": 20,
   "metadata": {},
   "outputs": [],
   "source": [
    "merged.to_csv(f'{path}merged.csv', index =False)\n",
    "df_outer.to_csv(f'{path}df_outer.csv', index =False)\n",
    "df_inner.to_csv(f'{path}df_inner.csv', index =False)"
   ]
  },
  {
   "cell_type": "markdown",
   "metadata": {},
   "source": [
    " Not complete..... df_outer"
   ]
  },
  {
   "cell_type": "code",
   "execution_count": 21,
   "metadata": {},
   "outputs": [],
   "source": [
    "df_trn, y_trn, nas = proc_df(df_outer, 'new_sapflow')"
   ]
  },
  {
   "cell_type": "code",
   "execution_count": 23,
   "metadata": {},
   "outputs": [],
   "source": [
    "def split_vals(a,n): return a[:n], a[n:]\n",
    "n_valid = 8000\n",
    "n_trn = len(df_trn)-n_valid\n",
    "X_train, X_valid = split_vals(df_trn, n_trn)\n",
    "y_train, y_valid = split_vals(y_trn, n_trn)\n",
    "raw_train, raw_valid = split_vals(df_outer, n_trn)"
   ]
  },
  {
   "cell_type": "code",
   "execution_count": 24,
   "metadata": {},
   "outputs": [],
   "source": [
    "def rmse(x,y): return math.sqrt(((x-y)**2).mean())\n",
    "\n",
    "def print_score(m):\n",
    "    res = [rmse(m.predict(X_train), y_train), rmse(m.predict(X_valid), y_valid),\n",
    "                m.score(X_train, y_train), m.score(X_valid, y_valid)]\n",
    "    if hasattr(m, 'oob_score_'): res.append(m.oob_score_)\n",
    "    print(res)"
   ]
  },
  {
   "cell_type": "code",
   "execution_count": 25,
   "metadata": {},
   "outputs": [
    {
     "name": "stdout",
     "output_type": "stream",
     "text": [
      "[0.06501211279386168, 0.9299075229830537, 0.9999172940095571, 0.9851885255108048, 0.9997223482542263]\n"
     ]
    }
   ],
   "source": [
    "m = RandomForestRegressor(n_estimators=40, min_samples_leaf=3, max_features=0.5, n_jobs=-1, oob_score=True)\n",
    "m.fit(X_train, y_train)\n",
    "print_score(m)"
   ]
  },
  {
   "cell_type": "code",
   "execution_count": null,
   "metadata": {},
   "outputs": [],
   "source": []
  }
 ],
 "metadata": {
  "kernelspec": {
   "display_name": "Python 3",
   "language": "python",
   "name": "python3"
  },
  "language_info": {
   "codemirror_mode": {
    "name": "ipython",
    "version": 3
   },
   "file_extension": ".py",
   "mimetype": "text/x-python",
   "name": "python",
   "nbconvert_exporter": "python",
   "pygments_lexer": "ipython3",
   "version": "3.7.3"
  }
 },
 "nbformat": 4,
 "nbformat_minor": 2
}
